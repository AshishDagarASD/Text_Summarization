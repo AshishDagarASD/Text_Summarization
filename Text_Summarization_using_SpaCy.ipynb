{
  "nbformat": 4,
  "nbformat_minor": 0,
  "metadata": {
    "colab": {
      "name": "Text_Summarization_using_SpaCy.ipynb",
      "version": "0.3.2",
      "provenance": [],
      "collapsed_sections": [],
      "include_colab_link": true
    },
    "kernelspec": {
      "name": "python3",
      "display_name": "Python 3"
    },
    "accelerator": "GPU"
  },
  "cells": [
    {
      "cell_type": "markdown",
      "metadata": {
        "id": "view-in-github",
        "colab_type": "text"
      },
      "source": [
        "<a href=\"https://colab.research.google.com/github/AshishDagarASD/Text_Summarization/blob/master/Text_Summarization_using_SpaCy.ipynb\" target=\"_parent\"><img src=\"https://colab.research.google.com/assets/colab-badge.svg\" alt=\"Open In Colab\"/></a>"
      ]
    },
    {
      "cell_type": "code",
      "metadata": {
        "id": "dfkNlYblvLev",
        "colab_type": "code",
        "colab": {}
      },
      "source": [
        "#  we import SpaCy library and use its functions to perform nlp tasks."
      ],
      "execution_count": 0,
      "outputs": []
    },
    {
      "cell_type": "code",
      "metadata": {
        "id": "haYumh8-qadw",
        "colab_type": "code",
        "colab": {}
      },
      "source": [
        "import spacy\n",
        "from spacy.lang.en.stop_words import STOP_WORDS\n",
        "#  from string import punctuation"
      ],
      "execution_count": 0,
      "outputs": []
    },
    {
      "cell_type": "code",
      "metadata": {
        "id": "DChb6kg6rExs",
        "colab_type": "code",
        "outputId": "c11eaf2e-b0d4-4e1f-8759-b2d07d633429",
        "colab": {
          "base_uri": "https://localhost:8080/",
          "height": 35
        }
      },
      "source": [
        "#  we imported stopwords and stored as dictionary.\n",
        "stopwords = list(STOP_WORDS)\n",
        "len(stopwords)"
      ],
      "execution_count": 6,
      "outputs": [
        {
          "output_type": "execute_result",
          "data": {
            "text/plain": [
              "326"
            ]
          },
          "metadata": {
            "tags": []
          },
          "execution_count": 6
        }
      ]
    },
    {
      "cell_type": "code",
      "metadata": {
        "id": "xPUFJTDasr67",
        "colab_type": "code",
        "colab": {}
      },
      "source": [
        "#  we have loaded spacy's model as nlp i.e in english\n",
        "nlp = spacy.load('en')"
      ],
      "execution_count": 0,
      "outputs": []
    },
    {
      "cell_type": "code",
      "metadata": {
        "id": "Vr6B_2GLtcsr",
        "colab_type": "code",
        "colab": {}
      },
      "source": [
        "#  we stored a text data into the document1 as string\n",
        "\n",
        "document1 = \"\"\" Machine learning (ML) is the scientific study of algorithms and statistical models that computer systems use to progressively improve their performance on a specific task.\n",
        "Machine learning algorithms build a mathematical model of sample data, known as \"training data\", in order to make predictions or decisions without being explicitly programmed to perform the task.\n",
        "Machine learning algorithms are used in the applications of email filtering, detection of network intruders, and computer vision, where it is infeasible to develop an algorithm of specific instructions for performing the task. \n",
        "Machine learning is closely related to computational statistics, which focuses on making predictions using computers.\n",
        "The study of mathematical optimization delivers methods, theory and application domains to the field of machine learning. \n",
        "Data mining is a field of study within machine learning, and focuses on exploratory data analysis through unsupervised learning.\n",
        "In its application across business problems, machine learning is also referred to as predictive analytics.\"\"\"\n"
      ],
      "execution_count": 0,
      "outputs": []
    },
    {
      "cell_type": "code",
      "metadata": {
        "id": "E_mGVwNbHGIu",
        "colab_type": "code",
        "outputId": "6a8d912b-f172-47ec-b257-d8ba04a2d178",
        "colab": {
          "base_uri": "https://localhost:8080/",
          "height": 35
        }
      },
      "source": [
        "len(document1)"
      ],
      "execution_count": 9,
      "outputs": [
        {
          "output_type": "execute_result",
          "data": {
            "text/plain": [
              "1073"
            ]
          },
          "metadata": {
            "tags": []
          },
          "execution_count": 9
        }
      ]
    },
    {
      "cell_type": "code",
      "metadata": {
        "id": "EOtSnlU4t3vA",
        "colab_type": "code",
        "colab": {}
      },
      "source": [
        "#  we loaded the text data in an nlp docx variable\n",
        "docx = nlp(document1)"
      ],
      "execution_count": 0,
      "outputs": []
    },
    {
      "cell_type": "code",
      "metadata": {
        "id": "Z09NN5oOuEYP",
        "colab_type": "code",
        "outputId": "87146d6d-f83d-47d6-d341-1af4eca0e5bb",
        "colab": {
          "base_uri": "https://localhost:8080/",
          "height": 183
        }
      },
      "source": [
        "print(docx)\n",
        "type(docx)"
      ],
      "execution_count": 11,
      "outputs": [
        {
          "output_type": "stream",
          "text": [
            " Machine learning (ML) is the scientific study of algorithms and statistical models that computer systems use to progressively improve their performance on a specific task.\n",
            "Machine learning algorithms build a mathematical model of sample data, known as \"training data\", in order to make predictions or decisions without being explicitly programmed to perform the task.\n",
            "Machine learning algorithms are used in the applications of email filtering, detection of network intruders, and computer vision, where it is infeasible to develop an algorithm of specific instructions for performing the task. \n",
            "Machine learning is closely related to computational statistics, which focuses on making predictions using computers.\n",
            "The study of mathematical optimization delivers methods, theory and application domains to the field of machine learning. \n",
            "Data mining is a field of study within machine learning, and focuses on exploratory data analysis through unsupervised learning.\n",
            "In its application across business problems, machine learning is also referred to as predictive analytics.\n"
          ],
          "name": "stdout"
        },
        {
          "output_type": "execute_result",
          "data": {
            "text/plain": [
              "spacy.tokens.doc.Doc"
            ]
          },
          "metadata": {
            "tags": []
          },
          "execution_count": 11
        }
      ]
    },
    {
      "cell_type": "code",
      "metadata": {
        "id": "yjqqdeAfuHB1",
        "colab_type": "code",
        "outputId": "6619441e-1dac-4bf2-f0e7-41bc7ea18166",
        "colab": {
          "base_uri": "https://localhost:8080/",
          "height": 1000
        }
      },
      "source": [
        "#  we are now creating tokens of the text data that we have.\n",
        "\n",
        "for token in docx:\n",
        "  print(token.text)"
      ],
      "execution_count": 12,
      "outputs": [
        {
          "output_type": "stream",
          "text": [
            " \n",
            "Machine\n",
            "learning\n",
            "(\n",
            "ML\n",
            ")\n",
            "is\n",
            "the\n",
            "scientific\n",
            "study\n",
            "of\n",
            "algorithms\n",
            "and\n",
            "statistical\n",
            "models\n",
            "that\n",
            "computer\n",
            "systems\n",
            "use\n",
            "to\n",
            "progressively\n",
            "improve\n",
            "their\n",
            "performance\n",
            "on\n",
            "a\n",
            "specific\n",
            "task\n",
            ".\n",
            "\n",
            "\n",
            "Machine\n",
            "learning\n",
            "algorithms\n",
            "build\n",
            "a\n",
            "mathematical\n",
            "model\n",
            "of\n",
            "sample\n",
            "data\n",
            ",\n",
            "known\n",
            "as\n",
            "\"\n",
            "training\n",
            "data\n",
            "\"\n",
            ",\n",
            "in\n",
            "order\n",
            "to\n",
            "make\n",
            "predictions\n",
            "or\n",
            "decisions\n",
            "without\n",
            "being\n",
            "explicitly\n",
            "programmed\n",
            "to\n",
            "perform\n",
            "the\n",
            "task\n",
            ".\n",
            "\n",
            "\n",
            "Machine\n",
            "learning\n",
            "algorithms\n",
            "are\n",
            "used\n",
            "in\n",
            "the\n",
            "applications\n",
            "of\n",
            "email\n",
            "filtering\n",
            ",\n",
            "detection\n",
            "of\n",
            "network\n",
            "intruders\n",
            ",\n",
            "and\n",
            "computer\n",
            "vision\n",
            ",\n",
            "where\n",
            "it\n",
            "is\n",
            "infeasible\n",
            "to\n",
            "develop\n",
            "an\n",
            "algorithm\n",
            "of\n",
            "specific\n",
            "instructions\n",
            "for\n",
            "performing\n",
            "the\n",
            "task\n",
            ".\n",
            "\n",
            "\n",
            "Machine\n",
            "learning\n",
            "is\n",
            "closely\n",
            "related\n",
            "to\n",
            "computational\n",
            "statistics\n",
            ",\n",
            "which\n",
            "focuses\n",
            "on\n",
            "making\n",
            "predictions\n",
            "using\n",
            "computers\n",
            ".\n",
            "\n",
            "\n",
            "The\n",
            "study\n",
            "of\n",
            "mathematical\n",
            "optimization\n",
            "delivers\n",
            "methods\n",
            ",\n",
            "theory\n",
            "and\n",
            "application\n",
            "domains\n",
            "to\n",
            "the\n",
            "field\n",
            "of\n",
            "machine\n",
            "learning\n",
            ".\n",
            "\n",
            "\n",
            "Data\n",
            "mining\n",
            "is\n",
            "a\n",
            "field\n",
            "of\n",
            "study\n",
            "within\n",
            "machine\n",
            "learning\n",
            ",\n",
            "and\n",
            "focuses\n",
            "on\n",
            "exploratory\n",
            "data\n",
            "analysis\n",
            "through\n",
            "unsupervised\n",
            "learning\n",
            ".\n",
            "\n",
            "\n",
            "In\n",
            "its\n",
            "application\n",
            "across\n",
            "business\n",
            "problems\n",
            ",\n",
            "machine\n",
            "learning\n",
            "is\n",
            "also\n",
            "referred\n",
            "to\n",
            "as\n",
            "predictive\n",
            "analytics\n",
            ".\n"
          ],
          "name": "stdout"
        }
      ]
    },
    {
      "cell_type": "code",
      "metadata": {
        "id": "T11n83Ysh2dG",
        "colab_type": "code",
        "colab": {}
      },
      "source": [
        "#stopwords.append('\\n',' ','(',')',)"
      ],
      "execution_count": 0,
      "outputs": []
    },
    {
      "cell_type": "code",
      "metadata": {
        "id": "Hd5xb3LDjmRM",
        "colab_type": "code",
        "colab": {
          "base_uri": "https://localhost:8080/",
          "height": 72
        },
        "outputId": "7042f570-d959-4796-8e22-061a38a3d38e"
      },
      "source": [
        "for sent in docx :\n",
        "  print(type(sent.text))\n",
        "  print(type(sent))\n",
        "  print(type(docx))\n",
        "  break"
      ],
      "execution_count": 31,
      "outputs": [
        {
          "output_type": "stream",
          "text": [
            "<class 'str'>\n",
            "<class 'spacy.tokens.token.Token'>\n",
            "<class 'spacy.tokens.doc.Doc'>\n"
          ],
          "name": "stdout"
        }
      ]
    },
    {
      "cell_type": "code",
      "metadata": {
        "id": "HHif5QwIu1Lc",
        "colab_type": "code",
        "colab": {}
      },
      "source": [
        "#  Here we are creating a frequency table having frequenc counts corresponding to the word\n",
        "#  Docx is a list of sentences\n",
        "word_freq = {}\n",
        "\n",
        "for word in docx:\n",
        "  if word.text not in stopwords:\n",
        "    if word.text not in word_freq.keys():\n",
        "      word_freq[word.text] = 1\n",
        "    else :\n",
        "      word_freq[word.text] +=1"
      ],
      "execution_count": 0,
      "outputs": []
    },
    {
      "cell_type": "code",
      "metadata": {
        "id": "gng8R2UxzNgM",
        "colab_type": "code",
        "outputId": "5d78e3fa-6dc3-4ec7-df9b-d367273b1dfc",
        "colab": {
          "base_uri": "https://localhost:8080/",
          "height": 1000
        }
      },
      "source": [
        "#  o/p of freq table as dictionary.\n",
        "word_freq"
      ],
      "execution_count": 15,
      "outputs": [
        {
          "output_type": "execute_result",
          "data": {
            "text/plain": [
              "{'\\n': 6,\n",
              " ' ': 1,\n",
              " '\"': 2,\n",
              " '(': 1,\n",
              " ')': 1,\n",
              " ',': 9,\n",
              " '.': 7,\n",
              " 'Data': 1,\n",
              " 'In': 1,\n",
              " 'ML': 1,\n",
              " 'Machine': 4,\n",
              " 'The': 1,\n",
              " 'algorithm': 1,\n",
              " 'algorithms': 3,\n",
              " 'analysis': 1,\n",
              " 'analytics': 1,\n",
              " 'application': 2,\n",
              " 'applications': 1,\n",
              " 'build': 1,\n",
              " 'business': 1,\n",
              " 'closely': 1,\n",
              " 'computational': 1,\n",
              " 'computer': 2,\n",
              " 'computers': 1,\n",
              " 'data': 3,\n",
              " 'decisions': 1,\n",
              " 'delivers': 1,\n",
              " 'detection': 1,\n",
              " 'develop': 1,\n",
              " 'domains': 1,\n",
              " 'email': 1,\n",
              " 'explicitly': 1,\n",
              " 'exploratory': 1,\n",
              " 'field': 2,\n",
              " 'filtering': 1,\n",
              " 'focuses': 2,\n",
              " 'improve': 1,\n",
              " 'infeasible': 1,\n",
              " 'instructions': 1,\n",
              " 'intruders': 1,\n",
              " 'known': 1,\n",
              " 'learning': 8,\n",
              " 'machine': 3,\n",
              " 'making': 1,\n",
              " 'mathematical': 2,\n",
              " 'methods': 1,\n",
              " 'mining': 1,\n",
              " 'model': 1,\n",
              " 'models': 1,\n",
              " 'network': 1,\n",
              " 'optimization': 1,\n",
              " 'order': 1,\n",
              " 'perform': 1,\n",
              " 'performance': 1,\n",
              " 'performing': 1,\n",
              " 'predictions': 2,\n",
              " 'predictive': 1,\n",
              " 'problems': 1,\n",
              " 'programmed': 1,\n",
              " 'progressively': 1,\n",
              " 'referred': 1,\n",
              " 'related': 1,\n",
              " 'sample': 1,\n",
              " 'scientific': 1,\n",
              " 'specific': 2,\n",
              " 'statistical': 1,\n",
              " 'statistics': 1,\n",
              " 'study': 3,\n",
              " 'systems': 1,\n",
              " 'task': 3,\n",
              " 'theory': 1,\n",
              " 'training': 1,\n",
              " 'unsupervised': 1,\n",
              " 'use': 1,\n",
              " 'vision': 1}"
            ]
          },
          "metadata": {
            "tags": []
          },
          "execution_count": 15
        }
      ]
    },
    {
      "cell_type": "code",
      "metadata": {
        "id": "dJTEdEfyEPY2",
        "colab_type": "code",
        "colab": {}
      },
      "source": [
        "for word in word_freq.keys():\n",
        "  word_freq[word] = (word_freq[word]/max(word_freq.values())"
      ],
      "execution_count": 0,
      "outputs": []
    },
    {
      "cell_type": "code",
      "metadata": {
        "id": "CCycfewQzaJw",
        "colab_type": "code",
        "colab": {}
      },
      "source": [
        "#  Sentence scores\n",
        "#   scoring every sentence on the basis of number of words\n",
        "sentence_list = [sentence for sentence in docx.sents ]"
      ],
      "execution_count": 0,
      "outputs": []
    },
    {
      "cell_type": "code",
      "metadata": {
        "id": "5mqCX6S91CmB",
        "colab_type": "code",
        "outputId": "ebe4b558-5379-4e51-ebce-f24368f9d77f",
        "colab": {
          "base_uri": "https://localhost:8080/",
          "height": 165
        }
      },
      "source": [
        "print(sentence_list)"
      ],
      "execution_count": 18,
      "outputs": [
        {
          "output_type": "stream",
          "text": [
            "[ Machine learning (ML) is the scientific study of algorithms and statistical models that computer systems use to progressively improve their performance on a specific task.\n",
            ", Machine learning algorithms build a mathematical model of sample data, known as \"training data\", in order to make predictions or decisions without being explicitly programmed to perform the task.\n",
            ", Machine learning algorithms are used in the applications of email filtering, detection of network intruders, and computer vision, where it is infeasible to develop an algorithm of specific instructions for performing the task. \n",
            ", Machine learning is closely related to computational statistics, which focuses on making predictions using computers.\n",
            ", The study of mathematical optimization delivers methods, theory and application domains to the field of machine learning. \n",
            ", Data mining is a field of study within machine learning, and focuses on exploratory data analysis through unsupervised learning.\n",
            ", In its application across business problems, machine learning is also referred to as predictive analytics.]\n"
          ],
          "name": "stdout"
        }
      ]
    },
    {
      "cell_type": "code",
      "metadata": {
        "id": "BWNjri85AbZJ",
        "colab_type": "code",
        "colab": {}
      },
      "source": [
        "sentence_score = {}\n",
        "\n",
        "for sent in sentence_list:\n",
        "  for word in sent:\n",
        "    if word.text.lower() in word_freq.keys():\n",
        "      if len(sent.text.split(' ')) < 30:\n",
        "        if sent not in sentence_score.keys():\n",
        "          sentence_score[sent] = word_freq[word.text.lower()]\n",
        "        else :\n",
        "          sentence_score[sent] += word_freq[word.text.lower()]"
      ],
      "execution_count": 0,
      "outputs": []
    },
    {
      "cell_type": "code",
      "metadata": {
        "id": "wuHvz70Fn85D",
        "colab_type": "code",
        "colab": {
          "base_uri": "https://localhost:8080/",
          "height": 55
        },
        "outputId": "31ab02ca-5865-42e8-862c-2490f0cdd1ee"
      },
      "source": [
        "#for sent in sentence_list:\n",
        "#  print ( sent.text.split(' '))\n",
        "#  break"
      ],
      "execution_count": 33,
      "outputs": [
        {
          "output_type": "stream",
          "text": [
            "['', 'Machine', 'learning', '(ML)', 'is', 'the', 'scientific', 'study', 'of', 'algorithms', 'and', 'statistical', 'models', 'that', 'computer', 'systems', 'use', 'to', 'progressively', 'improve', 'their', 'performance', 'on', 'a', 'specific', 'task.\\n']\n"
          ],
          "name": "stdout"
        }
      ]
    },
    {
      "cell_type": "code",
      "metadata": {
        "id": "aIttVFZICiD8",
        "colab_type": "code",
        "outputId": "83525a77-31e0-41cc-a491-824c4382c00e",
        "colab": {
          "base_uri": "https://localhost:8080/",
          "height": 146
        }
      },
      "source": [
        "sentence_score"
      ],
      "execution_count": 37,
      "outputs": [
        {
          "output_type": "execute_result",
          "data": {
            "text/plain": [
              "{ Machine learning (ML) is the scientific study of algorithms and statistical models that computer systems use to progressively improve their performance on a specific task.: 6.000000000000001,\n",
              " Machine learning algorithms build a mathematical model of sample data, known as \"training data\", in order to make predictions or decisions without being explicitly programmed to perform the task.: 11.555555555555559,\n",
              " Machine learning is closely related to computational statistics, which focuses on making predictions using computers.: 7.666666666666668,\n",
              " The study of mathematical optimization delivers methods, theory and application domains to the field of machine learning. : 7.888888888888889,\n",
              " Data mining is a field of study within machine learning, and focuses on exploratory data analysis through unsupervised learning.: 11.555555555555555,\n",
              " In its application across business problems, machine learning is also referred to as predictive analytics.: 9.333333333333334}"
            ]
          },
          "metadata": {
            "tags": []
          },
          "execution_count": 37
        }
      ]
    },
    {
      "cell_type": "code",
      "metadata": {
        "id": "Wm-2JkiBD-43",
        "colab_type": "code",
        "colab": {}
      },
      "source": [
        "from heapq import nlargest\n"
      ],
      "execution_count": 0,
      "outputs": []
    },
    {
      "cell_type": "code",
      "metadata": {
        "id": "8yyqxVJvFpAJ",
        "colab_type": "code",
        "outputId": "918da751-f241-4639-9765-b2ca31d4ef99",
        "colab": {
          "base_uri": "https://localhost:8080/",
          "height": 128
        }
      },
      "source": [
        "#  This is the main function that dos]es final summariation . By changing the int value inside the function we can \n",
        "#  change the degree of summarization\n",
        "\n",
        "summarized_sentence = nlargest(5,sentence_score,key = sentence_score.get)\n",
        "\n",
        "summarized_sentence"
      ],
      "execution_count": 22,
      "outputs": [
        {
          "output_type": "execute_result",
          "data": {
            "text/plain": [
              "[Machine learning algorithms build a mathematical model of sample data, known as \"training data\", in order to make predictions or decisions without being explicitly programmed to perform the task.,\n",
              " Data mining is a field of study within machine learning, and focuses on exploratory data analysis through unsupervised learning.,\n",
              " In its application across business problems, machine learning is also referred to as predictive analytics.,\n",
              " The study of mathematical optimization delivers methods, theory and application domains to the field of machine learning. ,\n",
              " Machine learning is closely related to computational statistics, which focuses on making predictions using computers.]"
            ]
          },
          "metadata": {
            "tags": []
          },
          "execution_count": 22
        }
      ]
    },
    {
      "cell_type": "code",
      "metadata": {
        "id": "6M1-J8EUGBGK",
        "colab_type": "code",
        "colab": {}
      },
      "source": [
        "#  Now convert spacy text into normal text\n",
        "\n",
        "final_sentences = [w.text for w in summarized_sentence]"
      ],
      "execution_count": 0,
      "outputs": []
    },
    {
      "cell_type": "code",
      "metadata": {
        "id": "Dwqcv_kaGtSv",
        "colab_type": "code",
        "colab": {}
      },
      "source": [
        "#  Now join sentences\n",
        "\n",
        "summary = ' '.join(final_sentences)"
      ],
      "execution_count": 0,
      "outputs": []
    },
    {
      "cell_type": "code",
      "metadata": {
        "id": "EtEri2ePG7Kr",
        "colab_type": "code",
        "outputId": "70a2e81d-6b6a-44a5-a3ca-76fa7e69baeb",
        "colab": {
          "base_uri": "https://localhost:8080/",
          "height": 35
        }
      },
      "source": [
        "len(summary)"
      ],
      "execution_count": 25,
      "outputs": [
        {
          "output_type": "execute_result",
          "data": {
            "text/plain": [
              "676"
            ]
          },
          "metadata": {
            "tags": []
          },
          "execution_count": 25
        }
      ]
    },
    {
      "cell_type": "code",
      "metadata": {
        "id": "W9nhdxgAG9N1",
        "colab_type": "code",
        "outputId": "ecd22a40-5c23-44d0-eeb9-d7733415faa0",
        "colab": {
          "base_uri": "https://localhost:8080/",
          "height": 55
        }
      },
      "source": [
        "summary"
      ],
      "execution_count": 26,
      "outputs": [
        {
          "output_type": "execute_result",
          "data": {
            "text/plain": [
              "'Machine learning algorithms build a mathematical model of sample data, known as \"training data\", in order to make predictions or decisions without being explicitly programmed to perform the task.\\n Data mining is a field of study within machine learning, and focuses on exploratory data analysis through unsupervised learning.\\n In its application across business problems, machine learning is also referred to as predictive analytics. The study of mathematical optimization delivers methods, theory and application domains to the field of machine learning. \\n Machine learning is closely related to computational statistics, which focuses on making predictions using computers.\\n'"
            ]
          },
          "metadata": {
            "tags": []
          },
          "execution_count": 26
        }
      ]
    },
    {
      "cell_type": "code",
      "metadata": {
        "id": "yUfyA0NwNXVI",
        "colab_type": "code",
        "colab": {}
      },
      "source": [
        "from gensim.summarization import summarize"
      ],
      "execution_count": 0,
      "outputs": []
    },
    {
      "cell_type": "code",
      "metadata": {
        "id": "_ydr8SqvNe-R",
        "colab_type": "code",
        "outputId": "b2c8459c-5c53-4b6f-ed61-93148df1a43c",
        "colab": {
          "base_uri": "https://localhost:8080/",
          "height": 55
        }
      },
      "source": [
        "summarize(document1)"
      ],
      "execution_count": 28,
      "outputs": [
        {
          "output_type": "execute_result",
          "data": {
            "text/plain": [
              "'Machine learning algorithms build a mathematical model of sample data, known as \"training data\", in order to make predictions or decisions without being explicitly programmed to perform the task.'"
            ]
          },
          "metadata": {
            "tags": []
          },
          "execution_count": 28
        }
      ]
    },
    {
      "cell_type": "code",
      "metadata": {
        "id": "6xiGGZ8M1bAM",
        "colab_type": "code",
        "colab": {}
      },
      "source": [
        ""
      ],
      "execution_count": 0,
      "outputs": []
    }
  ]
}